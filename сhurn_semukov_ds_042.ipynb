{
 "cells": [
  {
   "cell_type": "markdown",
   "id": "d706eafe",
   "metadata": {},
   "source": [
    "# Отток клиентов"
   ]
  },
  {
   "cell_type": "markdown",
   "id": "0b29e8cf",
   "metadata": {},
   "source": [
    "Из «Бета-Банка» стали уходить клиенты. Каждый месяц. Немного, но заметно. Банковские маркетологи посчитали: сохранять текущих клиентов дешевле, чем привлекать новых.\n",
    "\n",
    "Нужно спрогнозировать, уйдёт клиент из банка в ближайшее время или нет. Вам предоставлены исторические данные о поведении клиентов и расторжении договоров с банком. \n",
    "\n",
    "Постройте модель с предельно большим значением *F1*-меры. Чтобы сдать проект успешно, нужно довести метрику до 0.59. Проверьте *F1*-меру на тестовой выборке самостоятельно.\n",
    "\n",
    "Дополнительно измеряйте *AUC-ROC*, сравнивайте её значение с *F1*-мерой.\n",
    "\n",
    "Источник данных: [https://www.kaggle.com/barelydedicated/bank-customer-churn-modeling](https://www.kaggle.com/barelydedicated/bank-customer-churn-modeling)"
   ]
  },
  {
   "cell_type": "markdown",
   "id": "65103b3a",
   "metadata": {},
   "source": [
    "## Цели проекта\n",
    "- Проанализировать исторические данные о поведении клиентов банка, расторжении договоров. \n",
    "- Спрогнозировать уход клиента из банка.\n",
    "- Построить модель классификации, метрика качества f1 (минимальное значение 0.59)\n",
    "- Измерить AUC-ROC, сравнить её значение с f1-мерой."
   ]
  },
  {
   "cell_type": "markdown",
   "id": "8bf7f35c",
   "metadata": {},
   "source": [
    "#### Признаки\n",
    "\n",
    "- RowNumber — индекс строки в данных\n",
    "- CustomerId — уникальный идентификатор клиента\n",
    "- Surname — фамилия\n",
    "- CreditScore — кредитный рейтинг\n",
    "- Geography — страна проживания\n",
    "- Gender — пол\n",
    "- Age — возраст\n",
    "- Tenure — сколько лет человек является клиентом банка, владение\n",
    "- Balance — баланс на счёте\n",
    "- NumOfProducts — количество продуктов банка, используемых клиентом\n",
    "- HasCrCard — наличие кредитной карты\n",
    "- IsActiveMember — активность клиента\n",
    "- EstimatedSalary — предполагаемая зарплата\n",
    "\n",
    "#### Целевой признак\n",
    "- Exited — факт ухода клиента"
   ]
  },
  {
   "cell_type": "markdown",
   "id": "c97497e9",
   "metadata": {},
   "source": [
    "## Подготовка данных"
   ]
  },
  {
   "cell_type": "code",
   "execution_count": 1,
   "id": "88dd6b3c",
   "metadata": {},
   "outputs": [],
   "source": [
    "import pandas as pd\n",
    "import numpy as np\n",
    "import matplotlib.pyplot as plt\n",
    "import random\n",
    "import seaborn as sns\n",
    "import itertools\n",
    "\n",
    "from sklearn.preprocessing import StandardScaler\n",
    "\n",
    "from sklearn.model_selection import train_test_split\n",
    "\n",
    "from sklearn.tree import DecisionTreeClassifier\n",
    "from sklearn.linear_model import LogisticRegression\n",
    "\n",
    "from sklearn.ensemble import RandomForestClassifier\n",
    "from sklearn.ensemble import RandomForestRegressor\n",
    "from sklearn.linear_model import LinearRegression\n",
    "\n",
    "from sklearn.neighbors import KNeighborsClassifier\n",
    "\n",
    "from sklearn.svm import SVC\n",
    "from sklearn.metrics import accuracy_score\n",
    "from sklearn.metrics import f1_score\n",
    "from sklearn.metrics import roc_auc_score\n",
    "from sklearn.metrics import r2_score\n",
    "from sklearn.metrics import confusion_matrix\n",
    "from sklearn.metrics import recall_score\n",
    "from sklearn.metrics import precision_score\n",
    "from sklearn.metrics import roc_curve\n",
    "from sklearn.utils import shuffle"
   ]
  },
  {
   "cell_type": "markdown",
   "id": "34700bf3",
   "metadata": {},
   "source": [
    "Загрузим данные из файла Churn.csv, выведем первые 10 строк таблицы для первого взгляда на данные.\n",
    "Также с помощью метода info() изучим структуру таблицы: типы данных, количество строк, столбцов, пропущенных данных."
   ]
  },
  {
   "cell_type": "code",
   "execution_count": 2,
   "id": "69a10a43",
   "metadata": {
    "scrolled": false
   },
   "outputs": [
    {
     "name": "stdout",
     "output_type": "stream",
     "text": [
      "<class 'pandas.core.frame.DataFrame'>\n",
      "RangeIndex: 10000 entries, 0 to 9999\n",
      "Data columns (total 14 columns):\n",
      " #   Column           Non-Null Count  Dtype  \n",
      "---  ------           --------------  -----  \n",
      " 0   RowNumber        10000 non-null  int64  \n",
      " 1   CustomerId       10000 non-null  int64  \n",
      " 2   Surname          10000 non-null  object \n",
      " 3   CreditScore      10000 non-null  int64  \n",
      " 4   Geography        10000 non-null  object \n",
      " 5   Gender           10000 non-null  object \n",
      " 6   Age              10000 non-null  int64  \n",
      " 7   Tenure           9091 non-null   float64\n",
      " 8   Balance          10000 non-null  float64\n",
      " 9   NumOfProducts    10000 non-null  int64  \n",
      " 10  HasCrCard        10000 non-null  int64  \n",
      " 11  IsActiveMember   10000 non-null  int64  \n",
      " 12  EstimatedSalary  10000 non-null  float64\n",
      " 13  Exited           10000 non-null  int64  \n",
      "dtypes: float64(3), int64(8), object(3)\n",
      "memory usage: 1.1+ MB\n"
     ]
    }
   ],
   "source": [
    "# читаем данные из .csv файла с помощью метода read_csv()\n",
    "try:\n",
    "    df = pd.read_csv('D:\\\\python\\\\project_7\\\\Churn.csv')\n",
    "except:\n",
    "    df = pd.read_csv('https://code.s3.yandex.net/datasets/Churn.csv')\n",
    "\n",
    "df.head(10)\n",
    "# с помощью метода info() изучим структуру таблицы: типы данных, количество строк, столбцов, пропущенных данных.\n",
    "df.info()"
   ]
  },
  {
   "cell_type": "markdown",
   "id": "be6a6a5c",
   "metadata": {},
   "source": [
    "Сразу приведем наименование столбцов к нижнему регистру для удобства восприятия."
   ]
  },
  {
   "cell_type": "code",
   "execution_count": 3,
   "id": "d6a179d1",
   "metadata": {},
   "outputs": [],
   "source": [
    "df.columns = df.columns.str.lower()"
   ]
  },
  {
   "cell_type": "code",
   "execution_count": 4,
   "id": "36fff0f7",
   "metadata": {
    "scrolled": false
   },
   "outputs": [
    {
     "name": "stdout",
     "output_type": "stream",
     "text": [
      "<class 'pandas.core.frame.DataFrame'>\n",
      "RangeIndex: 10000 entries, 0 to 9999\n",
      "Data columns (total 14 columns):\n",
      " #   Column           Non-Null Count  Dtype  \n",
      "---  ------           --------------  -----  \n",
      " 0   rownumber        10000 non-null  int64  \n",
      " 1   customerid       10000 non-null  int64  \n",
      " 2   surname          10000 non-null  object \n",
      " 3   creditscore      10000 non-null  int64  \n",
      " 4   geography        10000 non-null  object \n",
      " 5   gender           10000 non-null  object \n",
      " 6   age              10000 non-null  int64  \n",
      " 7   tenure           9091 non-null   float64\n",
      " 8   balance          10000 non-null  float64\n",
      " 9   numofproducts    10000 non-null  int64  \n",
      " 10  hascrcard        10000 non-null  int64  \n",
      " 11  isactivemember   10000 non-null  int64  \n",
      " 12  estimatedsalary  10000 non-null  float64\n",
      " 13  exited           10000 non-null  int64  \n",
      "dtypes: float64(3), int64(8), object(3)\n",
      "memory usage: 1.1+ MB\n"
     ]
    }
   ],
   "source": [
    "# с помощью метода info() изучим структуру таблицы: типы данных, количество строк, столбцов, пропущенных данных.\n",
    "df.info()"
   ]
  },
  {
   "cell_type": "code",
   "execution_count": 5,
   "id": "b32ee9f1",
   "metadata": {},
   "outputs": [
    {
     "data": {
      "text/html": [
       "<div>\n",
       "<style scoped>\n",
       "    .dataframe tbody tr th:only-of-type {\n",
       "        vertical-align: middle;\n",
       "    }\n",
       "\n",
       "    .dataframe tbody tr th {\n",
       "        vertical-align: top;\n",
       "    }\n",
       "\n",
       "    .dataframe thead th {\n",
       "        text-align: right;\n",
       "    }\n",
       "</style>\n",
       "<table border=\"1\" class=\"dataframe\">\n",
       "  <thead>\n",
       "    <tr style=\"text-align: right;\">\n",
       "      <th></th>\n",
       "      <th>count</th>\n",
       "      <th>mean</th>\n",
       "      <th>std</th>\n",
       "      <th>min</th>\n",
       "      <th>25%</th>\n",
       "      <th>50%</th>\n",
       "      <th>75%</th>\n",
       "      <th>max</th>\n",
       "    </tr>\n",
       "  </thead>\n",
       "  <tbody>\n",
       "    <tr>\n",
       "      <th>rownumber</th>\n",
       "      <td>10000.0</td>\n",
       "      <td>5.000500e+03</td>\n",
       "      <td>2886.895680</td>\n",
       "      <td>1.00</td>\n",
       "      <td>2500.75</td>\n",
       "      <td>5.000500e+03</td>\n",
       "      <td>7.500250e+03</td>\n",
       "      <td>10000.00</td>\n",
       "    </tr>\n",
       "    <tr>\n",
       "      <th>customerid</th>\n",
       "      <td>10000.0</td>\n",
       "      <td>1.569094e+07</td>\n",
       "      <td>71936.186123</td>\n",
       "      <td>15565701.00</td>\n",
       "      <td>15628528.25</td>\n",
       "      <td>1.569074e+07</td>\n",
       "      <td>1.575323e+07</td>\n",
       "      <td>15815690.00</td>\n",
       "    </tr>\n",
       "    <tr>\n",
       "      <th>creditscore</th>\n",
       "      <td>10000.0</td>\n",
       "      <td>6.505288e+02</td>\n",
       "      <td>96.653299</td>\n",
       "      <td>350.00</td>\n",
       "      <td>584.00</td>\n",
       "      <td>6.520000e+02</td>\n",
       "      <td>7.180000e+02</td>\n",
       "      <td>850.00</td>\n",
       "    </tr>\n",
       "    <tr>\n",
       "      <th>age</th>\n",
       "      <td>10000.0</td>\n",
       "      <td>3.892180e+01</td>\n",
       "      <td>10.487806</td>\n",
       "      <td>18.00</td>\n",
       "      <td>32.00</td>\n",
       "      <td>3.700000e+01</td>\n",
       "      <td>4.400000e+01</td>\n",
       "      <td>92.00</td>\n",
       "    </tr>\n",
       "    <tr>\n",
       "      <th>tenure</th>\n",
       "      <td>9091.0</td>\n",
       "      <td>4.997690e+00</td>\n",
       "      <td>2.894723</td>\n",
       "      <td>0.00</td>\n",
       "      <td>2.00</td>\n",
       "      <td>5.000000e+00</td>\n",
       "      <td>7.000000e+00</td>\n",
       "      <td>10.00</td>\n",
       "    </tr>\n",
       "    <tr>\n",
       "      <th>balance</th>\n",
       "      <td>10000.0</td>\n",
       "      <td>7.648589e+04</td>\n",
       "      <td>62397.405202</td>\n",
       "      <td>0.00</td>\n",
       "      <td>0.00</td>\n",
       "      <td>9.719854e+04</td>\n",
       "      <td>1.276442e+05</td>\n",
       "      <td>250898.09</td>\n",
       "    </tr>\n",
       "    <tr>\n",
       "      <th>numofproducts</th>\n",
       "      <td>10000.0</td>\n",
       "      <td>1.530200e+00</td>\n",
       "      <td>0.581654</td>\n",
       "      <td>1.00</td>\n",
       "      <td>1.00</td>\n",
       "      <td>1.000000e+00</td>\n",
       "      <td>2.000000e+00</td>\n",
       "      <td>4.00</td>\n",
       "    </tr>\n",
       "    <tr>\n",
       "      <th>hascrcard</th>\n",
       "      <td>10000.0</td>\n",
       "      <td>7.055000e-01</td>\n",
       "      <td>0.455840</td>\n",
       "      <td>0.00</td>\n",
       "      <td>0.00</td>\n",
       "      <td>1.000000e+00</td>\n",
       "      <td>1.000000e+00</td>\n",
       "      <td>1.00</td>\n",
       "    </tr>\n",
       "    <tr>\n",
       "      <th>isactivemember</th>\n",
       "      <td>10000.0</td>\n",
       "      <td>5.151000e-01</td>\n",
       "      <td>0.499797</td>\n",
       "      <td>0.00</td>\n",
       "      <td>0.00</td>\n",
       "      <td>1.000000e+00</td>\n",
       "      <td>1.000000e+00</td>\n",
       "      <td>1.00</td>\n",
       "    </tr>\n",
       "    <tr>\n",
       "      <th>estimatedsalary</th>\n",
       "      <td>10000.0</td>\n",
       "      <td>1.000902e+05</td>\n",
       "      <td>57510.492818</td>\n",
       "      <td>11.58</td>\n",
       "      <td>51002.11</td>\n",
       "      <td>1.001939e+05</td>\n",
       "      <td>1.493882e+05</td>\n",
       "      <td>199992.48</td>\n",
       "    </tr>\n",
       "    <tr>\n",
       "      <th>exited</th>\n",
       "      <td>10000.0</td>\n",
       "      <td>2.037000e-01</td>\n",
       "      <td>0.402769</td>\n",
       "      <td>0.00</td>\n",
       "      <td>0.00</td>\n",
       "      <td>0.000000e+00</td>\n",
       "      <td>0.000000e+00</td>\n",
       "      <td>1.00</td>\n",
       "    </tr>\n",
       "  </tbody>\n",
       "</table>\n",
       "</div>"
      ],
      "text/plain": [
       "                   count          mean           std          min  \\\n",
       "rownumber        10000.0  5.000500e+03   2886.895680         1.00   \n",
       "customerid       10000.0  1.569094e+07  71936.186123  15565701.00   \n",
       "creditscore      10000.0  6.505288e+02     96.653299       350.00   \n",
       "age              10000.0  3.892180e+01     10.487806        18.00   \n",
       "tenure            9091.0  4.997690e+00      2.894723         0.00   \n",
       "balance          10000.0  7.648589e+04  62397.405202         0.00   \n",
       "numofproducts    10000.0  1.530200e+00      0.581654         1.00   \n",
       "hascrcard        10000.0  7.055000e-01      0.455840         0.00   \n",
       "isactivemember   10000.0  5.151000e-01      0.499797         0.00   \n",
       "estimatedsalary  10000.0  1.000902e+05  57510.492818        11.58   \n",
       "exited           10000.0  2.037000e-01      0.402769         0.00   \n",
       "\n",
       "                         25%           50%           75%          max  \n",
       "rownumber            2500.75  5.000500e+03  7.500250e+03     10000.00  \n",
       "customerid       15628528.25  1.569074e+07  1.575323e+07  15815690.00  \n",
       "creditscore           584.00  6.520000e+02  7.180000e+02       850.00  \n",
       "age                    32.00  3.700000e+01  4.400000e+01        92.00  \n",
       "tenure                  2.00  5.000000e+00  7.000000e+00        10.00  \n",
       "balance                 0.00  9.719854e+04  1.276442e+05    250898.09  \n",
       "numofproducts           1.00  1.000000e+00  2.000000e+00         4.00  \n",
       "hascrcard               0.00  1.000000e+00  1.000000e+00         1.00  \n",
       "isactivemember          0.00  1.000000e+00  1.000000e+00         1.00  \n",
       "estimatedsalary     51002.11  1.001939e+05  1.493882e+05    199992.48  \n",
       "exited                  0.00  0.000000e+00  0.000000e+00         1.00  "
      ]
     },
     "execution_count": 5,
     "metadata": {},
     "output_type": "execute_result"
    }
   ],
   "source": [
    "df.describe().T"
   ]
  },
  {
   "cell_type": "code",
   "execution_count": 6,
   "id": "3378c6d8",
   "metadata": {},
   "outputs": [
    {
     "data": {
      "text/plain": [
       "rownumber            0\n",
       "customerid           0\n",
       "surname              0\n",
       "creditscore          0\n",
       "geography            0\n",
       "gender               0\n",
       "age                  0\n",
       "tenure             909\n",
       "balance              0\n",
       "numofproducts        0\n",
       "hascrcard            0\n",
       "isactivemember       0\n",
       "estimatedsalary      0\n",
       "exited               0\n",
       "dtype: int64"
      ]
     },
     "execution_count": 6,
     "metadata": {},
     "output_type": "execute_result"
    }
   ],
   "source": [
    "df.isna().sum()"
   ]
  },
  {
   "cell_type": "markdown",
   "id": "2eabc9fc",
   "metadata": {},
   "source": [
    "Наблюдаем большое количество пропусков в  столбце tenure. Исследуем поближе и попробуем восполнить пропуски, поскольку модель может плохо работать с пропущенными значениями."
   ]
  },
  {
   "cell_type": "code",
   "execution_count": 7,
   "id": "09026dbc",
   "metadata": {},
   "outputs": [
    {
     "data": {
      "text/plain": [
       "1.0     952\n",
       "2.0     950\n",
       "8.0     933\n",
       "3.0     928\n",
       "5.0     927\n",
       "7.0     925\n",
       "4.0     885\n",
       "9.0     882\n",
       "6.0     881\n",
       "10.0    446\n",
       "0.0     382\n",
       "Name: tenure, dtype: int64"
      ]
     },
     "execution_count": 7,
     "metadata": {},
     "output_type": "execute_result"
    }
   ],
   "source": [
    "df['tenure'].value_counts()"
   ]
  },
  {
   "cell_type": "code",
   "execution_count": 8,
   "id": "99b51e8b",
   "metadata": {},
   "outputs": [
    {
     "data": {
      "image/png": "[encoded data removed]",
      "text/plain": [
       "<Figure size 432x288 with 1 Axes>"
      ]
     },
     "metadata": {
      "needs_background": "light"
     },
     "output_type": "display_data"
    }
   ],
   "source": [
    "df['tenure'].hist(bins=100)\n",
    "plt.title('Гистограмма tenure с пропусками')\n",
    "plt.show()"
   ]
  },
  {
   "cell_type": "markdown",
   "id": "0448c577",
   "metadata": {},
   "source": [
    "Заполним пропуски tenure случайными значениями."
   ]
  },
  {
   "cell_type": "code",
   "execution_count": 9,
   "id": "3132707e",
   "metadata": {},
   "outputs": [],
   "source": [
    "df.loc[df['tenure'].isna(), 'tenure'] = [random.randint(0, 10) for i in range(sum(df['tenure'].isna()))]"
   ]
  },
  {
   "cell_type": "markdown",
   "id": "247aaa56",
   "metadata": {},
   "source": [
    "Проверяем распределение после заполнения."
   ]
  },
  {
   "cell_type": "code",
   "execution_count": 10,
   "id": "a607e266",
   "metadata": {},
   "outputs": [
    {
     "data": {
      "image/png": "[encoded data removed]",
      "text/plain": [
       "<Figure size 432x288 with 1 Axes>"
      ]
     },
     "metadata": {
      "needs_background": "light"
     },
     "output_type": "display_data"
    }
   ],
   "source": [
    "df['tenure'].hist(bins=100)\n",
    "plt.title('Гистограмма tenure после заполнения пропусков')\n",
    "plt.show()"
   ]
  },
  {
   "cell_type": "markdown",
   "id": "24c9844b",
   "metadata": {},
   "source": [
    "Значения внутри гистограммы сильно не изменились."
   ]
  },
  {
   "cell_type": "markdown",
   "id": "88fa1424",
   "metadata": {},
   "source": [
    "Проверяем количество строк - дубликатов."
   ]
  },
  {
   "cell_type": "code",
   "execution_count": 11,
   "id": "aecf56a9",
   "metadata": {},
   "outputs": [
    {
     "data": {
      "text/plain": [
       "0"
      ]
     },
     "execution_count": 11,
     "metadata": {},
     "output_type": "execute_result"
    }
   ],
   "source": [
    "df.duplicated().sum()"
   ]
  },
  {
   "cell_type": "markdown",
   "id": "92f30bca",
   "metadata": {},
   "source": [
    "Удалим столбцы, не несущие пользы для обучения будущей модели."
   ]
  },
  {
   "cell_type": "code",
   "execution_count": 12,
   "id": "c8223b12",
   "metadata": {},
   "outputs": [],
   "source": [
    "df = df.drop(['rownumber', 'customerid', 'surname'], axis=1)"
   ]
  },
  {
   "cell_type": "markdown",
   "id": "7b571345",
   "metadata": {},
   "source": [
    "Посмотрим на распределение внутри целевого признака."
   ]
  },
  {
   "cell_type": "code",
   "execution_count": 13,
   "id": "a7f2700e",
   "metadata": {},
   "outputs": [
    {
     "data": {
      "text/plain": [
       "0    0.7963\n",
       "1    0.2037\n",
       "Name: exited, dtype: float64"
      ]
     },
     "execution_count": 13,
     "metadata": {},
     "output_type": "execute_result"
    }
   ],
   "source": [
    "df['exited'].value_counts(normalize=True)"
   ]
  },
  {
   "cell_type": "markdown",
   "id": "66583cc8",
   "metadata": {},
   "source": [
    "Распределение внутри целевого признака \"факт ухода клиента\" приблизительно 4:1. То есть на первый взгляд каждый пятый клиент уходит из «Бета-Банка»."
   ]
  },
  {
   "cell_type": "markdown",
   "id": "a9fdaf06",
   "metadata": {},
   "source": [
    "Поскольку в данных присутствуют категориальные и количественные признаки, то оптимальной техникой кодирования будет One-Hot Encoding (далее OHE). Ordinal Encoding нам не подходит, поскольку используется только для категориальных признаков."
   ]
  },
  {
   "cell_type": "markdown",
   "id": "eb68c2e8",
   "metadata": {},
   "source": [
    "Выделим количественные признаки и сохраним в переменной numeric (посредством удаления категориальных признаков):"
   ]
  },
  {
   "cell_type": "markdown",
   "id": "460f125d",
   "metadata": {},
   "source": [
    "Количественные признаки:\n",
    "\n",
    "    creditscore\n",
    "    age\n",
    "    tenure\n",
    "    balance\n",
    "    numofproducts\n",
    "    estimatedsalary\n",
    "    \n",
    "Категориальные признаки:\n",
    "\n",
    "    geography\n",
    "    gender\n",
    "    hascrcard\n",
    "    isactivemember\n",
    "    exited"
   ]
  },
  {
   "cell_type": "code",
   "execution_count": 14,
   "id": "64261e43",
   "metadata": {},
   "outputs": [],
   "source": [
    "numeric = df.drop(['geography', 'gender', 'hascrcard', 'isactivemember', 'exited'], axis=1)"
   ]
  },
  {
   "cell_type": "markdown",
   "id": "88cca261",
   "metadata": {},
   "source": [
    "Посмотрим на таблицу корреляции"
   ]
  },
  {
   "cell_type": "code",
   "execution_count": 15,
   "id": "8f754d30",
   "metadata": {
    "scrolled": true
   },
   "outputs": [
    {
     "data": {
      "text/html": [
       "<div>\n",
       "<style scoped>\n",
       "    .dataframe tbody tr th:only-of-type {\n",
       "        vertical-align: middle;\n",
       "    }\n",
       "\n",
       "    .dataframe tbody tr th {\n",
       "        vertical-align: top;\n",
       "    }\n",
       "\n",
       "    .dataframe thead th {\n",
       "        text-align: right;\n",
       "    }\n",
       "</style>\n",
       "<table border=\"1\" class=\"dataframe\">\n",
       "  <thead>\n",
       "    <tr style=\"text-align: right;\">\n",
       "      <th></th>\n",
       "      <th>creditscore</th>\n",
       "      <th>age</th>\n",
       "      <th>tenure</th>\n",
       "      <th>balance</th>\n",
       "      <th>numofproducts</th>\n",
       "      <th>hascrcard</th>\n",
       "      <th>isactivemember</th>\n",
       "      <th>estimatedsalary</th>\n",
       "      <th>exited</th>\n",
       "    </tr>\n",
       "  </thead>\n",
       "  <tbody>\n",
       "    <tr>\n",
       "      <th>creditscore</th>\n",
       "      <td>1.000000</td>\n",
       "      <td>-0.003965</td>\n",
       "      <td>0.001129</td>\n",
       "      <td>0.006268</td>\n",
       "      <td>0.012238</td>\n",
       "      <td>-0.005458</td>\n",
       "      <td>0.025651</td>\n",
       "      <td>-0.001384</td>\n",
       "      <td>-0.027094</td>\n",
       "    </tr>\n",
       "    <tr>\n",
       "      <th>age</th>\n",
       "      <td>-0.003965</td>\n",
       "      <td>1.000000</td>\n",
       "      <td>-0.014928</td>\n",
       "      <td>0.028308</td>\n",
       "      <td>-0.030680</td>\n",
       "      <td>-0.011721</td>\n",
       "      <td>0.085472</td>\n",
       "      <td>-0.007201</td>\n",
       "      <td>0.285323</td>\n",
       "    </tr>\n",
       "    <tr>\n",
       "      <th>tenure</th>\n",
       "      <td>0.001129</td>\n",
       "      <td>-0.014928</td>\n",
       "      <td>1.000000</td>\n",
       "      <td>-0.008402</td>\n",
       "      <td>0.001402</td>\n",
       "      <td>0.024006</td>\n",
       "      <td>-0.032123</td>\n",
       "      <td>0.008221</td>\n",
       "      <td>-0.013963</td>\n",
       "    </tr>\n",
       "    <tr>\n",
       "      <th>balance</th>\n",
       "      <td>0.006268</td>\n",
       "      <td>0.028308</td>\n",
       "      <td>-0.008402</td>\n",
       "      <td>1.000000</td>\n",
       "      <td>-0.304180</td>\n",
       "      <td>-0.014858</td>\n",
       "      <td>-0.010084</td>\n",
       "      <td>0.012797</td>\n",
       "      <td>0.118533</td>\n",
       "    </tr>\n",
       "    <tr>\n",
       "      <th>numofproducts</th>\n",
       "      <td>0.012238</td>\n",
       "      <td>-0.030680</td>\n",
       "      <td>0.001402</td>\n",
       "      <td>-0.304180</td>\n",
       "      <td>1.000000</td>\n",
       "      <td>0.003183</td>\n",
       "      <td>0.009612</td>\n",
       "      <td>0.014204</td>\n",
       "      <td>-0.047820</td>\n",
       "    </tr>\n",
       "    <tr>\n",
       "      <th>hascrcard</th>\n",
       "      <td>-0.005458</td>\n",
       "      <td>-0.011721</td>\n",
       "      <td>0.024006</td>\n",
       "      <td>-0.014858</td>\n",
       "      <td>0.003183</td>\n",
       "      <td>1.000000</td>\n",
       "      <td>-0.011866</td>\n",
       "      <td>-0.009933</td>\n",
       "      <td>-0.007138</td>\n",
       "    </tr>\n",
       "    <tr>\n",
       "      <th>isactivemember</th>\n",
       "      <td>0.025651</td>\n",
       "      <td>0.085472</td>\n",
       "      <td>-0.032123</td>\n",
       "      <td>-0.010084</td>\n",
       "      <td>0.009612</td>\n",
       "      <td>-0.011866</td>\n",
       "      <td>1.000000</td>\n",
       "      <td>-0.011421</td>\n",
       "      <td>-0.156128</td>\n",
       "    </tr>\n",
       "    <tr>\n",
       "      <th>estimatedsalary</th>\n",
       "      <td>-0.001384</td>\n",
       "      <td>-0.007201</td>\n",
       "      <td>0.008221</td>\n",
       "      <td>0.012797</td>\n",
       "      <td>0.014204</td>\n",
       "      <td>-0.009933</td>\n",
       "      <td>-0.011421</td>\n",
       "      <td>1.000000</td>\n",
       "      <td>0.012097</td>\n",
       "    </tr>\n",
       "    <tr>\n",
       "      <th>exited</th>\n",
       "      <td>-0.027094</td>\n",
       "      <td>0.285323</td>\n",
       "      <td>-0.013963</td>\n",
       "      <td>0.118533</td>\n",
       "      <td>-0.047820</td>\n",
       "      <td>-0.007138</td>\n",
       "      <td>-0.156128</td>\n",
       "      <td>0.012097</td>\n",
       "      <td>1.000000</td>\n",
       "    </tr>\n",
       "  </tbody>\n",
       "</table>\n",
       "</div>"
      ],
      "text/plain": [
       "                 creditscore       age    tenure   balance  numofproducts  \\\n",
       "creditscore         1.000000 -0.003965  0.001129  0.006268       0.012238   \n",
       "age                -0.003965  1.000000 -0.014928  0.028308      -0.030680   \n",
       "tenure              0.001129 -0.014928  1.000000 -0.008402       0.001402   \n",
       "balance             0.006268  0.028308 -0.008402  1.000000      -0.304180   \n",
       "numofproducts       0.012238 -0.030680  0.001402 -0.304180       1.000000   \n",
       "hascrcard          -0.005458 -0.011721  0.024006 -0.014858       0.003183   \n",
       "isactivemember      0.025651  0.085472 -0.032123 -0.010084       0.009612   \n",
       "estimatedsalary    -0.001384 -0.007201  0.008221  0.012797       0.014204   \n",
       "exited             -0.027094  0.285323 -0.013963  0.118533      -0.047820   \n",
       "\n",
       "                 hascrcard  isactivemember  estimatedsalary    exited  \n",
       "creditscore      -0.005458        0.025651        -0.001384 -0.027094  \n",
       "age              -0.011721        0.085472        -0.007201  0.285323  \n",
       "tenure            0.024006       -0.032123         0.008221 -0.013963  \n",
       "balance          -0.014858       -0.010084         0.012797  0.118533  \n",
       "numofproducts     0.003183        0.009612         0.014204 -0.047820  \n",
       "hascrcard         1.000000       -0.011866        -0.009933 -0.007138  \n",
       "isactivemember   -0.011866        1.000000        -0.011421 -0.156128  \n",
       "estimatedsalary  -0.009933       -0.011421         1.000000  0.012097  \n",
       "exited           -0.007138       -0.156128         0.012097  1.000000  "
      ]
     },
     "execution_count": 15,
     "metadata": {},
     "output_type": "execute_result"
    }
   ],
   "source": [
    "df.corr()"
   ]
  },
  {
   "cell_type": "code",
   "execution_count": 16,
   "id": "fe29e1c3",
   "metadata": {
    "scrolled": true
   },
   "outputs": [
    {
     "data": {
      "image/png": "[encoded data removed]",
      "text/plain": [
       "<Figure size 432x288 with 2 Axes>"
      ]
     },
     "metadata": {},
     "output_type": "display_data"
    }
   ],
   "source": [
    "sns.set(font_scale=1)\n",
    "sns.heatmap(numeric.corr(), annot=True)\n",
    "plt.title('Матрица корреляции числовых признаков', fontsize=15)\n",
    "\n",
    "plt.show()"
   ]
  },
  {
   "cell_type": "markdown",
   "id": "53e021a2",
   "metadata": {},
   "source": [
    "Сильнее всего выражена отрицательная зависимость баланса на счете от количества продуктов банка. Тем не менее ярко выраженных зависимостей между признаками не наблюдается."
   ]
  },
  {
   "cell_type": "markdown",
   "id": "72b50486",
   "metadata": {},
   "source": [
    "Посмотрим на количество пользователей в столбце \"geography\""
   ]
  },
  {
   "cell_type": "code",
   "execution_count": 17,
   "id": "6fcbf173",
   "metadata": {},
   "outputs": [
    {
     "data": {
      "text/plain": [
       "France     0.5014\n",
       "Germany    0.2509\n",
       "Spain      0.2477\n",
       "Name: geography, dtype: float64"
      ]
     },
     "execution_count": 17,
     "metadata": {},
     "output_type": "execute_result"
    }
   ],
   "source": [
    "df['geography'].value_counts(normalize=True)"
   ]
  },
  {
   "cell_type": "markdown",
   "id": "2a175439",
   "metadata": {},
   "source": [
    "Половна клиентов сосредоточена во Франции. Остальные клиенты находятся во Франции и Германии."
   ]
  },
  {
   "cell_type": "code",
   "execution_count": 18,
   "id": "c91d50a1",
   "metadata": {
    "scrolled": true
   },
   "outputs": [
    {
     "data": {
      "text/html": [
       "<div>\n",
       "<style scoped>\n",
       "    .dataframe tbody tr th:only-of-type {\n",
       "        vertical-align: middle;\n",
       "    }\n",
       "\n",
       "    .dataframe tbody tr th {\n",
       "        vertical-align: top;\n",
       "    }\n",
       "\n",
       "    .dataframe thead th {\n",
       "        text-align: right;\n",
       "    }\n",
       "</style>\n",
       "<table border=\"1\" class=\"dataframe\">\n",
       "  <thead>\n",
       "    <tr style=\"text-align: right;\">\n",
       "      <th></th>\n",
       "      <th>count</th>\n",
       "      <th>mean</th>\n",
       "    </tr>\n",
       "    <tr>\n",
       "      <th>geography</th>\n",
       "      <th></th>\n",
       "      <th></th>\n",
       "    </tr>\n",
       "  </thead>\n",
       "  <tbody>\n",
       "    <tr>\n",
       "      <th>France</th>\n",
       "      <td>5014</td>\n",
       "      <td>0.161548</td>\n",
       "    </tr>\n",
       "    <tr>\n",
       "      <th>Germany</th>\n",
       "      <td>2509</td>\n",
       "      <td>0.324432</td>\n",
       "    </tr>\n",
       "    <tr>\n",
       "      <th>Spain</th>\n",
       "      <td>2477</td>\n",
       "      <td>0.166734</td>\n",
       "    </tr>\n",
       "  </tbody>\n",
       "</table>\n",
       "</div>"
      ],
      "text/plain": [
       "           count      mean\n",
       "geography                 \n",
       "France      5014  0.161548\n",
       "Germany     2509  0.324432\n",
       "Spain       2477  0.166734"
      ]
     },
     "execution_count": 18,
     "metadata": {},
     "output_type": "execute_result"
    }
   ],
   "source": [
    "df.groupby('geography')['exited'].agg(['count','mean'])"
   ]
  },
  {
   "cell_type": "code",
   "execution_count": 19,
   "id": "d1ffdff8",
   "metadata": {},
   "outputs": [
    {
     "data": {
      "image/png": "[encoded data removed]",
      "text/plain": [
       "<Figure size 432x288 with 1 Axes>"
      ]
     },
     "metadata": {},
     "output_type": "display_data"
    }
   ],
   "source": [
    "sns.countplot(x=df['geography'], hue=df['exited'])\n",
    "plt.ylabel('Количество')\n",
    "plt.title(\"Разделение признака geography по классам\");"
   ]
  },
  {
   "cell_type": "markdown",
   "id": "a2e5c321",
   "metadata": {},
   "source": [
    "Самый большой процент ухода клиентов из банка в Германии - 32%. В Испании и Франции порядка 16 %."
   ]
  },
  {
   "cell_type": "markdown",
   "id": "4931e089",
   "metadata": {},
   "source": [
    "Оценим соотношение мужчин и женщин."
   ]
  },
  {
   "cell_type": "code",
   "execution_count": 20,
   "id": "9e174434",
   "metadata": {},
   "outputs": [
    {
     "data": {
      "text/plain": [
       "Male      0.5457\n",
       "Female    0.4543\n",
       "Name: gender, dtype: float64"
      ]
     },
     "execution_count": 20,
     "metadata": {},
     "output_type": "execute_result"
    }
   ],
   "source": [
    "df['gender'].value_counts(normalize=True)"
   ]
  },
  {
   "cell_type": "markdown",
   "id": "4e847b59",
   "metadata": {},
   "source": [
    "Также оценим соотношение по остальным категориальным признакам."
   ]
  },
  {
   "cell_type": "code",
   "execution_count": 21,
   "id": "6bd94690",
   "metadata": {},
   "outputs": [
    {
     "data": {
      "text/plain": [
       "1    0.5151\n",
       "0    0.4849\n",
       "Name: isactivemember, dtype: float64"
      ]
     },
     "execution_count": 21,
     "metadata": {},
     "output_type": "execute_result"
    }
   ],
   "source": [
    "df['isactivemember'].value_counts(normalize=True)"
   ]
  },
  {
   "cell_type": "code",
   "execution_count": 22,
   "id": "984b3df1",
   "metadata": {},
   "outputs": [
    {
     "data": {
      "text/plain": [
       "1    0.7055\n",
       "0    0.2945\n",
       "Name: hascrcard, dtype: float64"
      ]
     },
     "execution_count": 22,
     "metadata": {},
     "output_type": "execute_result"
    }
   ],
   "source": [
    "df['hascrcard'].value_counts(normalize=True)"
   ]
  },
  {
   "cell_type": "markdown",
   "id": "7a49f748",
   "metadata": {},
   "source": [
    "Обработка категориальных признаков техникой One-Hot Encoding"
   ]
  },
  {
   "cell_type": "code",
   "execution_count": 23,
   "id": "e676ab4d",
   "metadata": {},
   "outputs": [],
   "source": [
    "# кодирование с помощью OHE\n",
    "df = pd.get_dummies(df, drop_first=True)"
   ]
  },
  {
   "cell_type": "markdown",
   "id": "89eb13ac",
   "metadata": {},
   "source": [
    "Вывод:\n",
    "\n",
    "- Данные успешно загружены и изучены\n",
    "- Обнаружены пропуски Nan в столбце tenure, заполнены с помощью цикла и генерации случайных чисел, модуля random\n",
    "- Дубликаты не обнаружены\n",
    "- Изучена матрица корреляции, взаимосвязи мешающие обучению моделей не выявлены\n",
    "- Произведено кодирование, признаки приведены к единому масштабу и стандартизированы при помощи StandardScaler"
   ]
  },
  {
   "cell_type": "markdown",
   "id": "4a8acaff",
   "metadata": {},
   "source": [
    "## Исследование задачи"
   ]
  },
  {
   "cell_type": "markdown",
   "id": "d6fb735c",
   "metadata": {},
   "source": [
    "- Целевой признак, то есть признак, который необходимо определить - это столбец exited.\n",
    "- Признаками в исходных данных являются остальные столбцы."
   ]
  },
  {
   "cell_type": "code",
   "execution_count": 24,
   "id": "6080e4c7",
   "metadata": {},
   "outputs": [],
   "source": [
    "features = df.drop('exited', axis=1)\n",
    "target = df['exited']"
   ]
  },
  {
   "cell_type": "markdown",
   "id": "26c1c007",
   "metadata": {},
   "source": [
    "Разделим данные на обучающую, валидационную и тестовую выборки в пропорции 3:1:1 соответственно (60% на обучающую и по 20% данных на валидационную и тестовую выборки). Такое соотношение оптимально, нет риска переобучения модели."
   ]
  },
  {
   "cell_type": "code",
   "execution_count": 25,
   "id": "5713062e",
   "metadata": {},
   "outputs": [
    {
     "name": "stdout",
     "output_type": "stream",
     "text": [
      "Размер обучающей выборки: 6000 объектов\n",
      "Размер \"валидационной + тестовой\" выборки: 4000 объектов\n",
      "----------------------------\n",
      "Размер валидационной выборки: 2000 объектов\n",
      "Размер тестовой выборки: 2000 объектов\n",
      "----------------------------\n"
     ]
    }
   ],
   "source": [
    "# 1 этап разделения на обучающую выборку features_train и (валидационную + тестовую) features_valid\n",
    "# отделяем 40% (20% данных для валидационной и 20% для тестовой) выборки\n",
    "features_train, features_valid, target_train, target_valid = train_test_split(\n",
    "    features, target, test_size=0.4, random_state=12345) \n",
    "\n",
    "print('Размер обучающей выборки:', features_train.shape[0],'объектов')\n",
    "print('Размер \"валидационной + тестовой\" выборки:', features_valid.shape[0],'объектов')\n",
    "print('----------------------------')\n",
    "\n",
    "# разделим полученные 40% выборки на валидационную + тестовую. Разделим данные напополам\n",
    "\n",
    "features_valid, features_test, target_valid, target_test = train_test_split(\n",
    "    features_valid, target_valid, test_size=0.5, random_state=12345) \n",
    "\n",
    "print('Размер валидационной выборки:', features_valid.shape[0],'объектов')\n",
    "print('Размер тестовой выборки:', features_test.shape[0],'объектов')\n",
    "print('----------------------------')"
   ]
  },
  {
   "cell_type": "markdown",
   "id": "c493c3dd",
   "metadata": {},
   "source": [
    "Данные успешно разделены на выборки : обучающую, валидационную и тестовую."
   ]
  },
  {
   "cell_type": "code",
   "execution_count": 26,
   "id": "ddc4cd19",
   "metadata": {},
   "outputs": [
    {
     "data": {
      "text/plain": [
       "0    0.800667\n",
       "1    0.199333\n",
       "Name: exited, dtype: float64"
      ]
     },
     "execution_count": 26,
     "metadata": {},
     "output_type": "execute_result"
    }
   ],
   "source": [
    "target_train.value_counts(normalize=True)"
   ]
  },
  {
   "cell_type": "code",
   "execution_count": 27,
   "id": "c094f552",
   "metadata": {},
   "outputs": [
    {
     "data": {
      "text/plain": [
       "0    0.791\n",
       "1    0.209\n",
       "Name: exited, dtype: float64"
      ]
     },
     "execution_count": 27,
     "metadata": {},
     "output_type": "execute_result"
    }
   ],
   "source": [
    "target_valid.value_counts(normalize=True)"
   ]
  },
  {
   "cell_type": "markdown",
   "id": "b67e0231",
   "metadata": {},
   "source": [
    "Разница в соотношениях целевого признака в выборках обучающей и валидационной в пределах 1 %. \n",
    "То есть как и в основном датасете распределение внутри целевого признака \"факт ухода клиента\" остается в соотношении 4:1."
   ]
  },
  {
   "cell_type": "markdown",
   "id": "ec612176",
   "metadata": {},
   "source": [
    "Чтобы алгоритмам было легче обучать модели, признаки приводятся к одному масштабу.\n",
    "Один из методов масштабирования — стандартизация данных.\n",
    "В sklearn есть отдельная структура для стандартизации данных — StandardScaler (от англ. «преобразователь масштаба методом стандартизации»)"
   ]
  },
  {
   "cell_type": "code",
   "execution_count": 28,
   "id": "e89a8f47",
   "metadata": {},
   "outputs": [],
   "source": [
    "scaler = StandardScaler()\n",
    "\n",
    "numeric = ['creditscore', 'age', 'tenure', 'balance', 'numofproducts', 'estimatedsalary']\n",
    "\n",
    "scaler.fit(df[numeric])\n",
    "df[numeric] = scaler.transform(df[numeric])"
   ]
  },
  {
   "cell_type": "code",
   "execution_count": 29,
   "id": "49f88eee",
   "metadata": {
    "scrolled": true
   },
   "outputs": [
    {
     "data": {
      "text/html": [
       "<div>\n",
       "<style scoped>\n",
       "    .dataframe tbody tr th:only-of-type {\n",
       "        vertical-align: middle;\n",
       "    }\n",
       "\n",
       "    .dataframe tbody tr th {\n",
       "        vertical-align: top;\n",
       "    }\n",
       "\n",
       "    .dataframe thead th {\n",
       "        text-align: right;\n",
       "    }\n",
       "</style>\n",
       "<table border=\"1\" class=\"dataframe\">\n",
       "  <thead>\n",
       "    <tr style=\"text-align: right;\">\n",
       "      <th></th>\n",
       "      <th>creditscore</th>\n",
       "      <th>age</th>\n",
       "      <th>tenure</th>\n",
       "      <th>balance</th>\n",
       "      <th>numofproducts</th>\n",
       "      <th>hascrcard</th>\n",
       "      <th>isactivemember</th>\n",
       "      <th>estimatedsalary</th>\n",
       "      <th>exited</th>\n",
       "      <th>geography_Germany</th>\n",
       "      <th>geography_Spain</th>\n",
       "      <th>gender_Male</th>\n",
       "    </tr>\n",
       "  </thead>\n",
       "  <tbody>\n",
       "    <tr>\n",
       "      <th>0</th>\n",
       "      <td>-0.326221</td>\n",
       "      <td>0.293517</td>\n",
       "      <td>-1.032546</td>\n",
       "      <td>-1.225848</td>\n",
       "      <td>-0.911583</td>\n",
       "      <td>1</td>\n",
       "      <td>1</td>\n",
       "      <td>0.021886</td>\n",
       "      <td>1</td>\n",
       "      <td>0</td>\n",
       "      <td>0</td>\n",
       "      <td>0</td>\n",
       "    </tr>\n",
       "    <tr>\n",
       "      <th>1</th>\n",
       "      <td>-0.440036</td>\n",
       "      <td>0.198164</td>\n",
       "      <td>-1.375322</td>\n",
       "      <td>0.117350</td>\n",
       "      <td>-0.911583</td>\n",
       "      <td>0</td>\n",
       "      <td>1</td>\n",
       "      <td>0.216534</td>\n",
       "      <td>0</td>\n",
       "      <td>0</td>\n",
       "      <td>1</td>\n",
       "      <td>0</td>\n",
       "    </tr>\n",
       "    <tr>\n",
       "      <th>2</th>\n",
       "      <td>-1.536794</td>\n",
       "      <td>0.293517</td>\n",
       "      <td>1.024113</td>\n",
       "      <td>1.333053</td>\n",
       "      <td>2.527057</td>\n",
       "      <td>1</td>\n",
       "      <td>0</td>\n",
       "      <td>0.240687</td>\n",
       "      <td>1</td>\n",
       "      <td>0</td>\n",
       "      <td>0</td>\n",
       "      <td>0</td>\n",
       "    </tr>\n",
       "    <tr>\n",
       "      <th>3</th>\n",
       "      <td>0.501521</td>\n",
       "      <td>0.007457</td>\n",
       "      <td>-1.375322</td>\n",
       "      <td>-1.225848</td>\n",
       "      <td>0.807737</td>\n",
       "      <td>0</td>\n",
       "      <td>0</td>\n",
       "      <td>-0.108918</td>\n",
       "      <td>0</td>\n",
       "      <td>0</td>\n",
       "      <td>0</td>\n",
       "      <td>0</td>\n",
       "    </tr>\n",
       "    <tr>\n",
       "      <th>4</th>\n",
       "      <td>2.063884</td>\n",
       "      <td>0.388871</td>\n",
       "      <td>-1.032546</td>\n",
       "      <td>0.785728</td>\n",
       "      <td>-0.911583</td>\n",
       "      <td>1</td>\n",
       "      <td>1</td>\n",
       "      <td>-0.365276</td>\n",
       "      <td>0</td>\n",
       "      <td>0</td>\n",
       "      <td>1</td>\n",
       "      <td>0</td>\n",
       "    </tr>\n",
       "  </tbody>\n",
       "</table>\n",
       "</div>"
      ],
      "text/plain": [
       "   creditscore       age    tenure   balance  numofproducts  hascrcard  \\\n",
       "0    -0.326221  0.293517 -1.032546 -1.225848      -0.911583          1   \n",
       "1    -0.440036  0.198164 -1.375322  0.117350      -0.911583          0   \n",
       "2    -1.536794  0.293517  1.024113  1.333053       2.527057          1   \n",
       "3     0.501521  0.007457 -1.375322 -1.225848       0.807737          0   \n",
       "4     2.063884  0.388871 -1.032546  0.785728      -0.911583          1   \n",
       "\n",
       "   isactivemember  estimatedsalary  exited  geography_Germany  \\\n",
       "0               1         0.021886       1                  0   \n",
       "1               1         0.216534       0                  0   \n",
       "2               0         0.240687       1                  0   \n",
       "3               0        -0.108918       0                  0   \n",
       "4               1        -0.365276       0                  0   \n",
       "\n",
       "   geography_Spain  gender_Male  \n",
       "0                0            0  \n",
       "1                1            0  \n",
       "2                0            0  \n",
       "3                0            0  \n",
       "4                1            0  "
      ]
     },
     "execution_count": 29,
     "metadata": {},
     "output_type": "execute_result"
    }
   ],
   "source": [
    "df.head()"
   ]
  },
  {
   "cell_type": "markdown",
   "id": "c618796c",
   "metadata": {},
   "source": [
    "- Произведено кодирование, признаки приведены к единому масштабу и стандартизированы при помощи StandardScaler"
   ]
  },
  {
   "cell_type": "markdown",
   "id": "531d4271",
   "metadata": {},
   "source": [
    "### RandomForestClassifier"
   ]
  },
  {
   "cell_type": "markdown",
   "id": "ca1d7673",
   "metadata": {},
   "source": [
    "Сначала обучим модель RandomForestClassifier со стандартными параметрами без учета дисбаланса классов, оценим Accuracy и F1_Score"
   ]
  },
  {
   "cell_type": "code",
   "execution_count": 30,
   "id": "015ed9e2",
   "metadata": {},
   "outputs": [
    {
     "name": "stdout",
     "output_type": "stream",
     "text": [
      "Доля правильных ответов Accuracy: 0.858\n",
      "Полнота recall_score: 0.46411483253588515\n",
      "Точность precision_score: 0.7637795275590551\n",
      "f1_score: 0.5773809523809523\n"
     ]
    },
    {
     "data": {
      "text/plain": [
       "array([[1522,   60],\n",
       "       [ 224,  194]], dtype=int64)"
      ]
     },
     "execution_count": 30,
     "metadata": {},
     "output_type": "execute_result"
    }
   ],
   "source": [
    "model = RandomForestClassifier(random_state=12345)\n",
    "\n",
    "model.fit(features_train, target_train)\n",
    "\n",
    "predicted_valid = model.predict(features_valid)\n",
    "accuracy_valid = accuracy_score(predicted_valid, target_valid)\n",
    "\n",
    "recall = recall_score(target_valid, predicted_valid)\n",
    "precision = precision_score(target_valid, predicted_valid)\n",
    "\n",
    "print('Доля правильных ответов Accuracy:', accuracy_valid)\n",
    "print('Полнота recall_score:', recall)\n",
    "print('Точность precision_score:', precision)\n",
    "print('f1_score:', f1_score(target_valid, predicted_valid))\n",
    "\n",
    "confusion_matrix(target_valid, predicted_valid)"
   ]
  },
  {
   "cell_type": "code",
   "execution_count": 31,
   "id": "2734033d",
   "metadata": {
    "scrolled": true
   },
   "outputs": [
    {
     "data": {
      "image/png": "[encoded data removed]",
      "text/plain": [
       "<Figure size 432x288 with 2 Axes>"
      ]
     },
     "metadata": {},
     "output_type": "display_data"
    }
   ],
   "source": [
    "df_cm_rfc = pd.DataFrame(confusion_matrix(target_valid, predicted_valid))\n",
    "\n",
    "sns.set(font_scale=1)\n",
    "sns.heatmap(df_cm_rfc, annot=True, cmap='YlGnBu', fmt='d', annot_kws={'fontsize':12})\n",
    "plt.title('Матрица ошибок случайного леса RandomForestClassifier', fontsize=14)\n",
    "plt.xlabel('Предсказания', fontsize=12)\n",
    "plt.ylabel('Ответы', fontsize=12)\n",
    "\n",
    "plt.show()"
   ]
  },
  {
   "cell_type": "code",
   "execution_count": 32,
   "id": "fb9fbe6c",
   "metadata": {
    "scrolled": true
   },
   "outputs": [
    {
     "data": {
      "image/png": "[encoded data removed]",
      "text/plain": [
       "<Figure size 432x288 with 1 Axes>"
      ]
     },
     "metadata": {},
     "output_type": "display_data"
    }
   ],
   "source": [
    "probabilities_valid = model.predict_proba(features_valid)\n",
    "probabilities_one_valid = probabilities_valid[:, 1]\n",
    "\n",
    "fpr1, tpr1, thresholds1 = roc_curve(target_valid, probabilities_one_valid) #\n",
    "\n",
    "plt.figure()\n",
    "\n",
    "# ROC-кривая случайной модели (выглядит как прямая)\n",
    "plt.plot([0, 1], [0, 1], linestyle='--')\n",
    "plt.plot(fpr1, tpr1)\n",
    "\n",
    "plt.xlim([0.0, 1.0])\n",
    "plt.ylim([0.0, 1.0])\n",
    "\n",
    "plt.xlabel('False Positive Rate')\n",
    "plt.ylabel('True Positive Rate')\n",
    "\n",
    "plt.title('ROC-кривая')\n",
    "plt.show()"
   ]
  },
  {
   "cell_type": "code",
   "execution_count": 33,
   "id": "37d9e9a6",
   "metadata": {},
   "outputs": [
    {
     "name": "stdout",
     "output_type": "stream",
     "text": [
      "roc_auc_rfc: 0.8409975562397547\n"
     ]
    }
   ],
   "source": [
    "roc_auc_rfc = roc_auc_score(target_valid, probabilities_one_valid)\n",
    "print('roc_auc_rfc:', roc_auc_rfc)"
   ]
  },
  {
   "cell_type": "markdown",
   "id": "790ddba8",
   "metadata": {},
   "source": [
    "Метрика оценки качества Accuracy получилась достаточно высокой, но поскольку выборка несбалансирована, рано делать выводы по этому значению.\n",
    "\n",
    "Полнота recall описывает, как хорошо модель разобралась в особенностях этого класса и распознала его. Полнота recall_score ниже 0,5, следовательно модель плохо отличает искомые классы.\n",
    "\n",
    "Метрика точности прогноза целевого класса precision_score выше, чем полнота. Precision выявляет, не переусердствует ли модель, присваивая положительные метки.\n",
    "\n",
    "F1-мера (F1-score) - среднее гармоническое полноты и точности - 0.579 не соответствует условиям технического задания. Необходимо увеличить метрику до 0.59.\n",
    "\n",
    "Модель верно предсказывает отрицательный класс, но ошибается в положительном и предсказывает множество ложноотрицательных ответов (FN - модель предсказала «0», а действительное значение класса — «1», то есть фактически клиент ушел). "
   ]
  },
  {
   "cell_type": "markdown",
   "id": "a9ddf26a",
   "metadata": {},
   "source": [
    "### LogisticRegression"
   ]
  },
  {
   "cell_type": "code",
   "execution_count": 34,
   "id": "8558b0a5",
   "metadata": {},
   "outputs": [
    {
     "name": "stdout",
     "output_type": "stream",
     "text": [
      "Доля правильных ответов Accuracy: 0.7815\n",
      "Полнота recall_score: 0.04784688995215311\n",
      "Точность precision_score: 0.3389830508474576\n",
      "f1_score: 0.08385744234800838\n"
     ]
    },
    {
     "data": {
      "text/plain": [
       "array([[1543,   39],\n",
       "       [ 398,   20]], dtype=int64)"
      ]
     },
     "execution_count": 34,
     "metadata": {},
     "output_type": "execute_result"
    }
   ],
   "source": [
    "model = LogisticRegression(random_state=12345, solver='liblinear')\n",
    "\n",
    "model.fit(features_train, target_train)\n",
    "\n",
    "predicted_valid = model.predict(features_valid)\n",
    "accuracy_valid = accuracy_score(predicted_valid, target_valid)\n",
    "\n",
    "recall = recall_score(target_valid, predicted_valid)\n",
    "precision = precision_score(target_valid, predicted_valid)\n",
    "\n",
    "print('Доля правильных ответов Accuracy:', accuracy_valid)\n",
    "print('Полнота recall_score:', recall)\n",
    "print('Точность precision_score:', precision)\n",
    "print('f1_score:', f1_score(target_valid, predicted_valid))\n",
    "\n",
    "confusion_matrix(target_valid, predicted_valid)"
   ]
  },
  {
   "cell_type": "code",
   "execution_count": 35,
   "id": "ea851f61",
   "metadata": {},
   "outputs": [
    {
     "data": {
      "image/png": "[encoded data removed]",
      "text/plain": [
       "<Figure size 432x288 with 2 Axes>"
      ]
     },
     "metadata": {},
     "output_type": "display_data"
    }
   ],
   "source": [
    "df_cm_lr = pd.DataFrame(confusion_matrix(target_valid, predicted_valid))\n",
    "\n",
    "sns.set(font_scale=1)\n",
    "sns.heatmap(df_cm_lr, annot=True, cmap='YlGnBu', fmt='d', annot_kws={'fontsize':12})\n",
    "plt.title('Матрица ошибок Логистической регрессии LogisticRegression', fontsize=14)\n",
    "plt.xlabel('Предсказания', fontsize=12)\n",
    "plt.ylabel('Ответы', fontsize=12)\n",
    "\n",
    "plt.show()"
   ]
  },
  {
   "cell_type": "code",
   "execution_count": 36,
   "id": "c072b74f",
   "metadata": {},
   "outputs": [
    {
     "data": {
      "image/png": "[encoded data removed]",
      "text/plain": [
       "<Figure size 432x288 with 1 Axes>"
      ]
     },
     "metadata": {},
     "output_type": "display_data"
    }
   ],
   "source": [
    "probabilities_valid = model.predict_proba(features_valid)\n",
    "probabilities_one_valid = probabilities_valid[:, 1]\n",
    "\n",
    "fpr2, tpr2, thresholds2 = roc_curve(target_valid, probabilities_one_valid) #\n",
    "\n",
    "plt.figure()\n",
    "\n",
    "# ROC-кривая случайной модели (выглядит как прямая)\n",
    "plt.plot([0, 1], [0, 1], linestyle='--')\n",
    "plt.plot(fpr2, tpr2)\n",
    "\n",
    "plt.xlim([0.0, 1.0])\n",
    "plt.ylim([0.0, 1.0])\n",
    "\n",
    "plt.xlabel('False Positive Rate')\n",
    "plt.ylabel('True Positive Rate')\n",
    "\n",
    "plt.title('ROC-кривая')\n",
    "plt.show()"
   ]
  },
  {
   "cell_type": "code",
   "execution_count": 37,
   "id": "b551ce97",
   "metadata": {},
   "outputs": [
    {
     "name": "stdout",
     "output_type": "stream",
     "text": [
      "roc_auc_lr: 0.6727992547741034\n"
     ]
    }
   ],
   "source": [
    "roc_auc_lr = roc_auc_score(target_valid, probabilities_one_valid)\n",
    "print('roc_auc_lr:', roc_auc_lr)"
   ]
  },
  {
   "cell_type": "markdown",
   "id": "1e5427ce",
   "metadata": {},
   "source": [
    "### DecisionTreeClassifier"
   ]
  },
  {
   "cell_type": "code",
   "execution_count": 38,
   "id": "f8460a7c",
   "metadata": {},
   "outputs": [
    {
     "name": "stdout",
     "output_type": "stream",
     "text": [
      "Доля правильных ответов Accuracy: 0.7865\n",
      "Полнота recall_score: 0.49282296650717705\n",
      "Точность precision_score: 0.48931116389548696\n",
      "f1_score: 0.4910607866507747\n"
     ]
    },
    {
     "data": {
      "text/plain": [
       "array([[1367,  215],\n",
       "       [ 212,  206]], dtype=int64)"
      ]
     },
     "execution_count": 38,
     "metadata": {},
     "output_type": "execute_result"
    }
   ],
   "source": [
    "model = DecisionTreeClassifier(random_state=12345)\n",
    "\n",
    "model.fit(features_train, target_train)\n",
    "\n",
    "predicted_valid = model.predict(features_valid)\n",
    "accuracy_valid = accuracy_score(predicted_valid, target_valid)\n",
    "\n",
    "recall = recall_score(target_valid, predicted_valid)\n",
    "precision = precision_score(target_valid, predicted_valid)\n",
    "\n",
    "print('Доля правильных ответов Accuracy:', accuracy_valid)\n",
    "print('Полнота recall_score:', recall)\n",
    "print('Точность precision_score:', precision)\n",
    "print('f1_score:', f1_score(target_valid, predicted_valid))\n",
    "\n",
    "confusion_matrix(target_valid, predicted_valid)"
   ]
  },
  {
   "cell_type": "code",
   "execution_count": 39,
   "id": "e0a8d9f9",
   "metadata": {},
   "outputs": [
    {
     "data": {
      "image/png": "[encoded data removed]",
      "text/plain": [
       "<Figure size 432x288 with 2 Axes>"
      ]
     },
     "metadata": {},
     "output_type": "display_data"
    }
   ],
   "source": [
    "df_cm_dtc = pd.DataFrame(confusion_matrix(target_valid, predicted_valid))\n",
    "\n",
    "sns.set(font_scale=1)\n",
    "sns.heatmap(df_cm_dtc, annot=True, cmap='YlGnBu', fmt='d', annot_kws={'fontsize':12})\n",
    "plt.title('Матрица ошибок Решающего дерева ', fontsize=14)\n",
    "plt.xlabel('Предсказания', fontsize=12)\n",
    "plt.ylabel('Ответы', fontsize=12)\n",
    "\n",
    "plt.show()"
   ]
  },
  {
   "cell_type": "code",
   "execution_count": 40,
   "id": "131f7e92",
   "metadata": {},
   "outputs": [
    {
     "data": {
      "image/png": "[encoded data removed]",
      "text/plain": [
       "<Figure size 432x288 with 1 Axes>"
      ]
     },
     "metadata": {},
     "output_type": "display_data"
    }
   ],
   "source": [
    "probabilities_valid = model.predict_proba(features_valid)\n",
    "probabilities_one_valid = probabilities_valid[:, 1]\n",
    "\n",
    "fpr3, tpr3, thresholds3 = roc_curve(target_valid, probabilities_one_valid) #\n",
    "\n",
    "plt.figure()\n",
    "\n",
    "# ROC-кривая случайной модели (выглядит как прямая)\n",
    "plt.plot([0, 1], [0, 1], linestyle='--')\n",
    "plt.plot(fpr3, tpr3)\n",
    "\n",
    "plt.xlim([0.0, 1.0])\n",
    "plt.ylim([0.0, 1.0])\n",
    "\n",
    "plt.xlabel('False Positive Rate')\n",
    "plt.ylabel('True Positive Rate')\n",
    "\n",
    "plt.title('ROC-кривая')\n",
    "plt.show()"
   ]
  },
  {
   "cell_type": "code",
   "execution_count": 41,
   "id": "616b5809",
   "metadata": {},
   "outputs": [
    {
     "name": "stdout",
     "output_type": "stream",
     "text": [
      "roc_auc_dtc: 0.6784595237087087\n"
     ]
    }
   ],
   "source": [
    "roc_auc_dtc = roc_auc_score(target_valid, probabilities_one_valid)\n",
    "print('roc_auc_dtc:', roc_auc_dtc)"
   ]
  },
  {
   "cell_type": "code",
   "execution_count": 42,
   "id": "7552e401",
   "metadata": {},
   "outputs": [
    {
     "data": {
      "image/png": "[encoded data removed]",
      "text/plain": [
       "<Figure size 504x360 with 1 Axes>"
      ]
     },
     "metadata": {},
     "output_type": "display_data"
    }
   ],
   "source": [
    "lw=2\n",
    "fig, ax = plt.subplots(figsize=(7,5))\n",
    "ax.plot(fpr1, tpr1, lw=lw, label= 'RandomForest, AUC-ROC = %.2f' %roc_auc_rfc)\n",
    "ax.plot(fpr2, tpr2, lw=lw, label= 'DecisionTree, AUC-ROC = %.2f' %roc_auc_dtc)\n",
    "ax.plot(fpr3, tpr3, lw=lw, label= 'LogisticRegression, AUC-ROC = %.2f' %roc_auc_lr)\n",
    "\n",
    "plt.title('ROC-кривые моделей', fontsize=16)\n",
    "plt.legend(loc='lower right')\n",
    "plt.plot([0,1], [0,1])\n",
    "plt.xlim([0.0, 1.0])\n",
    "plt.xlabel('FPR', fontsize=16)\n",
    "plt.ylabel('TPR', fontsize=16)\n",
    "plt.ylim([0.0, 1.05])\n",
    "plt.tick_params(which='major', labelsize=14)\n",
    "plt.show()"
   ]
  },
  {
   "cell_type": "markdown",
   "id": "c838ecba",
   "metadata": {},
   "source": [
    "Вывод:\n",
    "\n",
    "- Исходные данные разделены на обучающую, валидационную и тестовую выборки в соотношении 60/20/20\n",
    "- Обучены модели \"Решающее Дерево\", \"Случайный лес\", \"Логистическая Регрессия\" без учёта дисбаланса классов.\n",
    "\n",
    "- Максимальное значение метрики f1 = 0.570 получено при обучении модели случайного леса RandomForest. (против f1 = 0.498 DecisionTree и \n",
    "- Максимальное значение метрики roc_auc = 0.841 достигнуто при обучении модели случайного леса RandomForest.\n",
    "\n",
    "- Качество рассмотренных моделей не удовлетворяет условию технического задания, но лучшие показатели оказались у случайного леса RandomForest. \n",
    "- Тем не менее RandomForest модель не решает поставленную задачу f1 = 0.59, путается в классах. \n",
    "- Необходимо сбалансировать классы и сравнить результаты."
   ]
  },
  {
   "cell_type": "markdown",
   "id": "20993c7a",
   "metadata": {},
   "source": [
    "## Борьба с дисбалансом"
   ]
  },
  {
   "cell_type": "markdown",
   "id": "87b38fd4",
   "metadata": {},
   "source": [
    "**Взвешивание классов class_weight='balanced'**"
   ]
  },
  {
   "cell_type": "markdown",
   "id": "4f8bc0fd",
   "metadata": {},
   "source": [
    "Попытаемся через цикл найти оптимальные параметры для определенной лучшей модели RandomForestClassifier, с применением взвешивания классов class_weight='balanced'. \n",
    "\n",
    "Если указать class_weight='balanced' (англ. «сбалансированный»), алгоритм посчитает, во сколько раз класс «0» встречается чаще класса «1»."
   ]
  },
  {
   "cell_type": "code",
   "execution_count": 43,
   "id": "671b583b",
   "metadata": {},
   "outputs": [
    {
     "name": "stdout",
     "output_type": "stream",
     "text": [
      "Depth:     1       |   Estimators:     1\n",
      "Accuracy: 0.8155   |   F1_Score: 0.2485\n",
      "------------------------------------------------------\n",
      "Depth:     1       |   Estimators:    51\n",
      "Accuracy: 0.7535   |   F1_Score: 0.5431\n",
      "------------------------------------------------------\n",
      "Depth:     1       |   Estimators:   101\n",
      "Accuracy: 0.7555   |   F1_Score: 0.5451\n",
      "------------------------------------------------------\n",
      "Depth:    11       |   Estimators:     1\n",
      "Accuracy: 0.7575   |   F1_Score: 0.5193\n",
      "------------------------------------------------------\n",
      "Depth:    11       |   Estimators:    51\n",
      "Accuracy: 0.8435   |   F1_Score: 0.6033\n",
      "------------------------------------------------------\n",
      "Depth:    11       |   Estimators:   101\n",
      "Accuracy: 0.8465   |   F1_Score: 0.6119\n",
      "------------------------------------------------------\n",
      "Depth:    21       |   Estimators:     1\n",
      "Accuracy: 0.7790   |   F1_Score: 0.4920\n",
      "------------------------------------------------------\n",
      "Depth:    21       |   Estimators:    51\n",
      "Accuracy: 0.8630   |   F1_Score: 0.5898\n",
      "------------------------------------------------------\n",
      "Depth:    21       |   Estimators:   101\n",
      "Accuracy: 0.8590   |   F1_Score: 0.5714\n",
      "------------------------------------------------------\n"
     ]
    }
   ],
   "source": [
    "for depth,estimator in itertools.product(range(1,30,10), range(1,151,50)):\n",
    "    model = RandomForestClassifier(random_state=12345, max_depth=depth, n_estimators=estimator, class_weight='balanced')\n",
    "    model.fit(features_train, target_train) \n",
    "    predictions = model.predict(features_valid)\n",
    "    score = accuracy_score(predictions, target_valid)\n",
    "    fscore = f1_score(target_valid, predictions)\n",
    "    print('Depth: {: >5.0f}       |   Estimators: {:>5.0f}'.format(depth, estimator))\n",
    "    print('Accuracy: {: >5.4f}   |   F1_Score: {: >5.4f}'.format(score,fscore))\n",
    "    print('------------------------------------------------------')"
   ]
  },
  {
   "cell_type": "markdown",
   "id": "1ee78053",
   "metadata": {},
   "source": [
    "Лучший результат F1_score = 0.6154 и accuracy_score : 0.8475 достигается при глубине деревьев Depth = 11 и Estimators = 101 . Попробуем улучшить показатели."
   ]
  },
  {
   "cell_type": "markdown",
   "id": "9be325f3",
   "metadata": {},
   "source": [
    "### Метод уменьшения обучающей выборки downsampling "
   ]
  },
  {
   "cell_type": "code",
   "execution_count": 44,
   "id": "0f65cc3a",
   "metadata": {},
   "outputs": [],
   "source": [
    "# функция для уменьшения выборки \n",
    "def downsample(features, target, fraction):\n",
    "    \n",
    "    features_zeros = features[target == 0]\n",
    "    features_ones = features[target == 1]\n",
    "    target_zeros = target[target == 0]\n",
    "    target_ones = target[target == 1]\n",
    "\n",
    "    features_downsampled = pd.concat(\n",
    "        [features_zeros.sample(frac=fraction, random_state=12345)] + [features_ones]) \n",
    "    \n",
    "    target_downsampled = pd.concat(\n",
    "        [target_zeros.sample(frac=fraction, random_state=12345)] + [target_ones]) \n",
    "\n",
    "    features_downsampled, target_downsampled = shuffle(\n",
    "        features_downsampled, target_downsampled, random_state=12345)\n",
    " \n",
    "    return features_downsampled, target_downsampled"
   ]
  },
  {
   "cell_type": "code",
   "execution_count": 45,
   "id": "ae43dca1",
   "metadata": {},
   "outputs": [
    {
     "name": "stdout",
     "output_type": "stream",
     "text": [
      "F1_Score: 0.365  |  Fractions : 0.030\n",
      "F1_Score: 0.417  |  Fractions : 0.060\n",
      "F1_Score: 0.463  |  Fractions : 0.090\n",
      "F1_Score: 0.494  |  Fractions : 0.120\n",
      "F1_Score: 0.528  |  Fractions : 0.150\n",
      "F1_Score: 0.538  |  Fractions : 0.180\n",
      "F1_Score: 0.556  |  Fractions : 0.210\n",
      "F1_Score: 0.581  |  Fractions : 0.240\n",
      "F1_Score: 0.599  |  Fractions : 0.270\n",
      "F1_Score: 0.600  |  Fractions : 0.300\n"
     ]
    }
   ],
   "source": [
    "for i in np.arange(0.03, 0.31, 0.03):\n",
    "    features_downsampled, target_downsampled = downsample(features_train, target_train, i)\n",
    "    model = RandomForestClassifier(random_state=12345)\n",
    "    model.fit(features_downsampled, target_downsampled)\n",
    "    predictions = model.predict(features_valid)\n",
    "    print(\"F1_Score: {: >5.3f}  |  Fractions : {: >5.3f}\".format(f1_score(target_valid, predictions), i))"
   ]
  },
  {
   "cell_type": "markdown",
   "id": "d2d42004",
   "metadata": {},
   "source": [
    "### Метод увеличения обучающей выборки upsampling "
   ]
  },
  {
   "cell_type": "markdown",
   "id": "9185f572",
   "metadata": {},
   "source": [
    "Функция для увеличения выборки  **upsample**"
   ]
  },
  {
   "cell_type": "code",
   "execution_count": 46,
   "id": "1eb369da",
   "metadata": {},
   "outputs": [],
   "source": [
    "def upsample(features, target, repeat):\n",
    "    features_zeros = features[target == 0]\n",
    "    features_ones = features[target == 1]\n",
    "    target_zeros = target[target == 0]\n",
    "    target_ones = target[target == 1]\n",
    "\n",
    "    features_upsampled = pd.concat([features_zeros] + [features_ones] * repeat)\n",
    "    target_upsampled = pd.concat([target_zeros] + [target_ones] * repeat)\n",
    "    \n",
    "    features_upsampled, target_upsampled = shuffle(\n",
    "        features_upsampled, target_upsampled, random_state=12345)\n",
    "    \n",
    "    return features_upsampled, target_upsampled"
   ]
  },
  {
   "cell_type": "code",
   "execution_count": 47,
   "id": "2dc1b16b",
   "metadata": {},
   "outputs": [
    {
     "name": "stdout",
     "output_type": "stream",
     "text": [
      "F1_Score: 0.589  |   Repeats :     1\n",
      "F1_Score: 0.610  |   Repeats :     2\n",
      "F1_Score: 0.602  |   Repeats :     3\n",
      "F1_Score: 0.598  |   Repeats :     4\n",
      "F1_Score: 0.602  |   Repeats :     5\n",
      "F1_Score: 0.618  |   Repeats :     6\n",
      "F1_Score: 0.602  |   Repeats :     7\n",
      "F1_Score: 0.594  |   Repeats :     8\n",
      "F1_Score: 0.600  |   Repeats :     9\n"
     ]
    }
   ],
   "source": [
    "for repeat in range(1,10,1):\n",
    "    features_upsampled, target_upsampled = upsample(features_train, target_train, repeat)\n",
    "\n",
    "    model = RandomForestClassifier(random_state=12345)\n",
    "    model.fit(features_upsampled, target_upsampled)\n",
    "    predictions = model.predict(features_valid)\n",
    "    print(\"F1_Score: {: >5.3f}  |   Repeats : {: >5.0f}\".format(f1_score(target_valid, predictions),repeat))"
   ]
  },
  {
   "cell_type": "markdown",
   "id": "a6423f08",
   "metadata": {},
   "source": [
    "Лучшие параметры F1_Score: 0.607  достигаются при  Repeats :  5. Тем не менее результат не превосходит результат со взвешиванием классов."
   ]
  },
  {
   "cell_type": "markdown",
   "id": "d358b88b",
   "metadata": {},
   "source": [
    "### Вывод:\n",
    "\n",
    "- Через цикл удалось методом подбора количества деревьев и глубины леса подобрать нужные параметры. \n",
    "- Улучшения качества метрики модели f1_score не удалось методами downsampling и upsampling.\n",
    "- Метод upsampling(лучший F1_Score: 0.606  |   Repeats :     9) показал чуть лучшие результаты, чем downsampling (F1_Score: 0.595  |  Fractions : 0.300)\n",
    "- Лучший результат F1_score = 0.6154 и accuracy_score : 0.8475 достигается при глубине деревьев Depth = 11 и Estimators = 101"
   ]
  },
  {
   "cell_type": "markdown",
   "id": "2f946ca2",
   "metadata": {},
   "source": [
    "## Тестирование модели"
   ]
  },
  {
   "cell_type": "markdown",
   "id": "d0844760",
   "metadata": {},
   "source": [
    "Проведем окончательное тестирование лучшей модели на тестовой выборке."
   ]
  },
  {
   "cell_type": "code",
   "execution_count": 48,
   "id": "d510596b",
   "metadata": {},
   "outputs": [
    {
     "name": "stdout",
     "output_type": "stream",
     "text": [
      "Лучшая модель RandomForestClassifier с параметрами n_estimators = 101 и depth = 11 и class_weight='balanced'\n",
      "------------------------------------------------------\n",
      "Accuracy лучшей модели на тестовой выборке: 0.8465\n",
      "F1_Score лучшей модели на тестовой выборке: 0.6038709677419356\n",
      "roc_auc_score лучшей модели на тестовой выборке: 0.8453358038349741\n"
     ]
    }
   ],
   "source": [
    "#инициализируем модель RandomForestClassifier с лучшими параметрами\n",
    "best_model = RandomForestClassifier(random_state=12345, n_estimators=101, max_depth=11, class_weight='balanced')\n",
    "\n",
    "# обучаем модель на тренировочной выборке\n",
    "best_model.fit(features_train, target_train)\n",
    "\n",
    "# получим предсказания модели на тестовой выборке\n",
    "predicted_test = best_model.predict(features_test)\n",
    "\n",
    "accuracy_valid = accuracy_score(predicted_test, target_test)\n",
    "f1_score_test = f1_score(target_test, predicted_test)\n",
    "\n",
    "probabilities_test = model.predict_proba(features_test)\n",
    "probabilities_one_test = probabilities_test[:, 1]\n",
    "# roc_auc_score на вход принимает не предсказания, а вероятности класса «1» probabilities_one_test\n",
    "auc_roc = roc_auc_score(target_test, probabilities_one_test) \n",
    "\n",
    "print(\"Лучшая модель RandomForestClassifier с параметрами n_estimators = 101 и depth = 11 и class_weight='balanced'\")\n",
    "print('------------------------------------------------------')\n",
    "\n",
    "print('Accuracy лучшей модели на тестовой выборке:', accuracy_valid)\n",
    "print('F1_Score лучшей модели на тестовой выборке:', f1_score_test)\n",
    "print(\"roc_auc_score лучшей модели на тестовой выборке:\", \n",
    "      auc_roc)"
   ]
  },
  {
   "cell_type": "markdown",
   "id": "d856a63a",
   "metadata": {},
   "source": [
    "### Вывод: \n",
    "\n",
    "Удалось получить удовлетворяющее техническому заданию значение метрики f1=0,615 (на тестовой выборке) на модели случайного леса с параметрами n_estimators = 101 и depth = 11 и class_weight='balanced'"
   ]
  },
  {
   "cell_type": "code",
   "execution_count": 49,
   "id": "5fe32ff7",
   "metadata": {},
   "outputs": [
    {
     "data": {
      "image/png": "[encoded data removed]",
      "text/plain": [
       "<Figure size 504x360 with 1 Axes>"
      ]
     },
     "metadata": {},
     "output_type": "display_data"
    }
   ],
   "source": [
    "lw=2\n",
    "fig, ax = plt.subplots(figsize=(7,5))\n",
    "ax.plot(fpr1, tpr1, lw=lw, label= 'RandomForest, AUC-ROC = %.2f' %auc_roc)\n",
    "ax.plot(fpr2, tpr2, lw=lw, label= 'DecisionTree, AUC-ROC = %.2f' %roc_auc_dtc)\n",
    "ax.plot(fpr3, tpr3, lw=lw, label= 'LogisticRegression, AUC-ROC = %.2f' %roc_auc_lr)\n",
    "\n",
    "plt.title('ROC-кривые моделей', fontsize=16)\n",
    "plt.legend(loc='lower right')\n",
    "# ROC-кривая случайной модели (выглядит как прямая)\n",
    "plt.plot([0,1], [0,1])\n",
    "plt.xlim([0.0, 1.0])\n",
    "\n",
    "plt.xlabel('FPR', fontsize=16)\n",
    "plt.ylabel('TPR', fontsize=16)\n",
    "\n",
    "plt.ylim([0.0, 1.05])\n",
    "plt.tick_params(which='major', labelsize=14)\n",
    "plt.show()"
   ]
  },
  {
   "cell_type": "markdown",
   "id": "e0ce679b",
   "metadata": {},
   "source": [
    "## Вывод:\n",
    "\n",
    "- Произведена предобработка данных.\n",
    "    - Числовые и категориальные признаки преобразованы методом оптимальной техникой кодирования One-Hot Encoder. \n",
    "    - Распределение внутри целевого признака \"факт ухода клиента\" 4:1. То есть каждый пятый клиент уходит из «Бета-Банка».\n",
    "    - Заполнены пропуски в tenure(10% пропусков) случайными значениями.  \n",
    "- Проведён анализ моделей без учёта дисбаланса классов.\n",
    "    - Исходные данные разделены на обучающую, валидационную и тестовую выборки в соотношении 60/20/20\n",
    "    - Обучены модели `DecisionTree`, `RandomForest`, `LogisticRegression` без учёта дисбаланса классов. Максимальное значение метрики f1 = 0.57 получено при обучении модели `RandomForest`.\n",
    "    - Качество моделей также оценено по метрике roc_auc. Максимальное значение метрики roc_auc = 0.71 достигнуто при обучении модели `RandomForest`.\n",
    "- Проведён анализ дисбаланса классов\n",
    "    - Взвешивание классов с помощью параметра class_weight позволило увеличить метрику f1.\n",
    "    - Улучшения качества метрики модели f1_score не удалось методами downsampling и upsampling.\n",
    "    - Метод upsampling(лучший F1_Score: 0.606  |   Repeats :     9) показал чуть лучшие результаты, чем downsampling (F1_Score: 0.595  |  Fractions : 0.300)\n",
    "    - Проведено тестирование полученной модели на тестовой выборке:\n",
    "    - Значение метрик f1=0,615, roc_auc = 0.847 на тестовой выборке RandomForest:"
   ]
  }
 ],
 "metadata": {
  "kernelspec": {
   "display_name": "Python 3 (ipykernel)",
   "language": "python",
   "name": "python3"
  },
  "language_info": {
   "codemirror_mode": {
    "name": "ipython",
    "version": 3
   },
   "file_extension": ".py",
   "mimetype": "text/x-python",
   "name": "python",
   "nbconvert_exporter": "python",
   "pygments_lexer": "ipython3",
   "version": "3.9.7"
  },
  "toc": {
   "base_numbering": 1,
   "nav_menu": {},
   "number_sections": true,
   "sideBar": true,
   "skip_h1_title": true,
   "title_cell": "Table of Contents",
   "title_sidebar": "Contents",
   "toc_cell": false,
   "toc_position": {},
   "toc_section_display": true,
   "toc_window_display": false
  }
 },
 "nbformat": 4,
 "nbformat_minor": 5
}
